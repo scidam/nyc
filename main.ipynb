{
 "cells": [
  {
   "cell_type": "code",
   "execution_count": 24,
   "metadata": {
    "collapsed": true
   },
   "outputs": [],
   "source": [
    "%matplotlib inline"
   ]
  },
  {
   "cell_type": "code",
   "execution_count": 25,
   "metadata": {
    "collapsed": true
   },
   "outputs": [],
   "source": [
    "from sklearn.cluster import KMeans\n",
    "from sklearn.metrics import silhouette_score\n",
    "from collections import Counter\n",
    "from matplotlib import pyplot as plt\n",
    "import numpy as np\n",
    "from sklearn.svm import SVR\n",
    "from sklearn.preprocessing import StandardScaler\n",
    "from sklearn.kernel_ridge import KernelRidge\n",
    "from sklearn.ensemble import RandomForestRegressor\n",
    "from pyearth import Earth\n",
    "from sklearn.linear_model import LinearRegression"
   ]
  },
  {
   "cell_type": "code",
   "execution_count": 26,
   "metadata": {
    "collapsed": true
   },
   "outputs": [],
   "source": [
    "import pandas as pd\n",
    "train_data = pd.read_csv('train.csv', parse_dates=['pickup_datetime', 'dropoff_datetime'])\n",
    "test_data = pd.read_csv('test.csv', parse_dates=['pickup_datetime'])"
   ]
  },
  {
   "cell_type": "code",
   "execution_count": 27,
   "metadata": {},
   "outputs": [
    {
     "name": "stdout",
     "output_type": "stream",
     "text": [
      "<class 'pandas.core.frame.DataFrame'>\n",
      "RangeIndex: 1458644 entries, 0 to 1458643\n",
      "Data columns (total 11 columns):\n",
      "id                    1458644 non-null object\n",
      "vendor_id             1458644 non-null int64\n",
      "pickup_datetime       1458644 non-null datetime64[ns]\n",
      "dropoff_datetime      1458644 non-null datetime64[ns]\n",
      "passenger_count       1458644 non-null int64\n",
      "pickup_longitude      1458644 non-null float64\n",
      "pickup_latitude       1458644 non-null float64\n",
      "dropoff_longitude     1458644 non-null float64\n",
      "dropoff_latitude      1458644 non-null float64\n",
      "store_and_fwd_flag    1458644 non-null object\n",
      "trip_duration         1458644 non-null int64\n",
      "dtypes: datetime64[ns](2), float64(4), int64(3), object(2)\n",
      "memory usage: 122.4+ MB\n"
     ]
    }
   ],
   "source": [
    "train_data.info()"
   ]
  },
  {
   "cell_type": "code",
   "execution_count": 28,
   "metadata": {
    "collapsed": true
   },
   "outputs": [],
   "source": [
    "tocluster = train_data[['pickup_longitude', 'pickup_latitude', 'dropoff_longitude', 'dropoff_latitude']].values"
   ]
  },
  {
   "cell_type": "code",
   "execution_count": 29,
   "metadata": {
    "collapsed": true
   },
   "outputs": [],
   "source": [
    "#scores = []\n",
    "#for k in range(3, 16):\n",
    "#    print(\"Current K is\", k)\n",
    "#    kmeans = KMeans(n_clusters=k, random_state=10)\n",
    "#    labels = kmeans.fit(tocluster).labels_\n",
    "#    scores.append(silhouette_score(tocluster, labels, metric='euclidean', sample_size=1000))\n",
    "#plt.plot(range(3,16), scores)\n",
    "#plt.show()"
   ]
  },
  {
   "cell_type": "code",
   "execution_count": 30,
   "metadata": {
    "collapsed": true
   },
   "outputs": [],
   "source": [
    "#kmeans = KMeans(n_clusters=8, random_state=10)"
   ]
  },
  {
   "cell_type": "code",
   "execution_count": 31,
   "metadata": {
    "collapsed": true
   },
   "outputs": [],
   "source": [
    "#cluster_labels = kmeans.fit(tocluster).labels_"
   ]
  },
  {
   "cell_type": "code",
   "execution_count": 32,
   "metadata": {
    "collapsed": true
   },
   "outputs": [],
   "source": [
    "#Counter(cluster_labels)"
   ]
  },
  {
   "cell_type": "markdown",
   "metadata": {},
   "source": [
    "# Feature engeneering"
   ]
  },
  {
   "cell_type": "markdown",
   "metadata": {},
   "source": [
    "Lets create some useful features from existing ones. At least, the following will be preferable:\n",
    "1) distance between start and end points of the trip;\n",
    "2) week of the day\n",
    "3) month number\n",
    "4) second of the current day"
   ]
  },
  {
   "cell_type": "code",
   "execution_count": 33,
   "metadata": {
    "collapsed": true
   },
   "outputs": [],
   "source": [
    "@np.vectorize\n",
    "def distance_on_sphere(lat1, long1, lat2, long2):\n",
    "    d2r = np.pi / 180.0\n",
    "    phi1 = (90.0 - lat1) * d2r\n",
    "    phi2 = (90.0 - lat2) * d2r\n",
    "    # theta = долгота\n",
    "    theta1 = long1 * d2r\n",
    "    theta2 = long2 * d2r\n",
    "    carc = (np.sin(phi1) * np.sin(phi2) * np.cos(theta1 - theta2) +\n",
    "           np.cos(phi1) * np.cos(phi2))\n",
    "    if np.abs(carc) > 1.0:\n",
    "        return np.arccos(np.sign(carc) * 1.0)\n",
    "    return np.arccos(carc)"
   ]
  },
  {
   "cell_type": "code",
   "execution_count": 34,
   "metadata": {
    "collapsed": true
   },
   "outputs": [],
   "source": [
    "def get_features(X):\n",
    "    res = X.copy()\n",
    "    distances = 6371 * distance_on_sphere(X[['pickup_latitude']].values,\n",
    "                               X[['pickup_longitude']].values,\n",
    "                               X[['dropoff_latitude']].values,\n",
    "                               X[['dropoff_longitude']].values)\n",
    "\n",
    "    res['dist'] = distances\n",
    "\n",
    "    month = X['pickup_datetime'].map(lambda x: x.month)\n",
    "    res['month'] = (month - month.min()) / (month.max() - month.min())\n",
    "    \n",
    "    wd = X['pickup_datetime'].map(lambda x: x.weekday())\n",
    "    res['wdsin'] = np.sin(2 * np.pi * wd / 7.0)\n",
    "    res['wdcos'] = np.cos(2 * np.pi * wd / 7.0)\n",
    "    \n",
    "    sc = X['pickup_datetime'].map(lambda x: x.hour * 3600.0 + x.minute * 60.0 + x.second)\n",
    "    res['scsin'] = np.sin(2 * np.pi * sc / 86400.0)\n",
    "    res['sccos'] = np.cos(2 * np.pi * sc / 86400.0)\n",
    "\n",
    "    return res"
   ]
  },
  {
   "cell_type": "markdown",
   "metadata": {
    "collapsed": true
   },
   "source": [
    "# Detect and drop outliers"
   ]
  },
  {
   "cell_type": "code",
   "execution_count": 35,
   "metadata": {
    "collapsed": true
   },
   "outputs": [],
   "source": [
    "def filter_train_dataset(X): \n",
    "    strange_records1 = (X['dist'] < 0.1) & (X['trip_duration'] > 5000)\n",
    "    strange_records2 = (X['dist'] < 100) & (X['trip_duration'] > 80000)\n",
    "    return X.loc[~(strange_records1|strange_records2)]"
   ]
  },
  {
   "cell_type": "code",
   "execution_count": 36,
   "metadata": {
    "collapsed": true
   },
   "outputs": [],
   "source": [
    "to_analyze_filtered = filter_train_dataset(get_features(train_data))\n",
    "y = to_analyze_filtered[['trip_duration']].values\n",
    "X = to_analyze_filtered.drop(['store_and_fwd_flag','vendor_id', 'id', 'pickup_datetime', 'dropoff_datetime','trip_duration'], axis=1)\n"
   ]
  },
  {
   "cell_type": "code",
   "execution_count": 37,
   "metadata": {
    "collapsed": true
   },
   "outputs": [],
   "source": [
    "def clusterized_regressor(traindataset, testdataset=None):\n",
    "    to_analyze_filtered = filter_train_dataset(get_features(traindataset))\n",
    "    tocluster = to_analyze_filtered[['pickup_longitude', 'pickup_latitude', 'dropoff_longitude', 'dropoff_latitude']].values\n",
    "    kmeans = KMeans(n_clusters=1, random_state=10, n_jobs=-1)\n",
    "    cluster_labels = kmeans.fit(tocluster).labels_\n",
    "    clfs = {}\n",
    "    y = to_analyze_filtered[['trip_duration']].values\n",
    "    X = to_analyze_filtered.drop(['store_and_fwd_flag','vendor_id', 'id', 'pickup_datetime', 'dropoff_datetime','trip_duration'], axis=1).values\n",
    "    for lb in np.unique(cluster_labels):\n",
    "        if sum(cluster_labels==lb):\n",
    "            clf = RandomForestRegressor(max_depth=20, n_estimators=100, n_jobs=3, random_state=10)\n",
    "            _X, _y = X[cluster_labels==lb,:], y[cluster_labels==lb]\n",
    "            clf.fit(_X, _y.ravel())\n",
    "            clfs.update({lb: clf.predict})\n",
    "        else:\n",
    "            clfs.update({lb: lambda x: to_analyze_filtered.loc[cluster_labels==lb, 'trip_duration'].median()})\n",
    "        print(\"Evaluating the lb: \", lb)\n",
    "    if testdataset is not None:\n",
    "        to_analyze_test = get_features(testdataset)\n",
    "        tocluster = testdataset[['pickup_longitude', 'pickup_latitude', 'dropoff_longitude', 'dropoff_latitude']].values\n",
    "        test_labels = kmeans.predict(tocluster)\n",
    "        X = to_analyze_test.drop(['store_and_fwd_flag', 'vendor_id', 'id', 'pickup_datetime'], axis=1).values\n",
    "        predictions = []\n",
    "        result = np.zeros(len(test_labels))\n",
    "        for lb in np.unique(cluster_labels):\n",
    "            result[lb==test_labels] = clfs[lb](X)[lb==test_labels]\n",
    "            result[(result < 0.0)*(lb==test_labels)] = to_analyze_filtered[lb==cluster_labels]['trip_duration'].median()\n",
    "            print(\"Prediction for LB: \", lb)\n",
    "        \n",
    "        # ---- Finalize predictions\n",
    "        result[to_analyze_test['dist'] < 0.1] = to_analyze_filtered[to_analyze_filtered['dist'] < 0.1]['trip_duration'].median()\n",
    "        result[to_analyze_test['dist'] == 0] = to_analyze_filtered[to_analyze_filtered['dist']==0]['trip_duration'].median()\n",
    "        return result, test_labels\n",
    "    else:\n",
    "        return clfs, cluster_labels\n"
   ]
  },
  {
   "cell_type": "code",
   "execution_count": 38,
   "metadata": {},
   "outputs": [
    {
     "name": "stdout",
     "output_type": "stream",
     "text": [
      "Evaluating the lb:  0\n",
      "Prediction for LB:  0\n"
     ]
    }
   ],
   "source": [
    "result, labels = clusterized_regressor(train_data, test_data) #.drop(['dropoff_datetime', 'trip_duration']"
   ]
  },
  {
   "cell_type": "code",
   "execution_count": 39,
   "metadata": {},
   "outputs": [
    {
     "data": {
      "text/plain": [
       "array([  671.14418034,   651.72908929,   403.20230863,  1191.66157525,\n",
       "         376.90323943,   911.1274353 ,  1018.56702824,   852.77143716,\n",
       "        2457.64123499,   522.24756556])"
      ]
     },
     "execution_count": 39,
     "metadata": {},
     "output_type": "execute_result"
    }
   ],
   "source": [
    "result[:10]"
   ]
  },
  {
   "cell_type": "code",
   "execution_count": 40,
   "metadata": {},
   "outputs": [
    {
     "data": {
      "text/plain": [
       "0     455\n",
       "1     663\n",
       "2    2124\n",
       "3     429\n",
       "4     435\n",
       "5     443\n",
       "6     341\n",
       "7    1551\n",
       "8     255\n",
       "9    1225\n",
       "Name: trip_duration, dtype: int64"
      ]
     },
     "execution_count": 40,
     "metadata": {},
     "output_type": "execute_result"
    }
   ],
   "source": [
    "train_data['trip_duration'][:10]\n",
    "\n"
   ]
  },
  {
   "cell_type": "code",
   "execution_count": 41,
   "metadata": {},
   "outputs": [
    {
     "data": {
      "text/plain": [
       "array([0, 0, 0, 0, 0, 0, 0, 0, 0, 0], dtype=int32)"
      ]
     },
     "execution_count": 41,
     "metadata": {},
     "output_type": "execute_result"
    }
   ],
   "source": [
    "labels[:10]"
   ]
  },
  {
   "cell_type": "code",
   "execution_count": 42,
   "metadata": {
    "collapsed": true
   },
   "outputs": [],
   "source": [
    "final = pd.DataFrame()"
   ]
  },
  {
   "cell_type": "code",
   "execution_count": 43,
   "metadata": {
    "collapsed": true
   },
   "outputs": [],
   "source": [
    "final['id'] = test_data['id']"
   ]
  },
  {
   "cell_type": "code",
   "execution_count": 44,
   "metadata": {
    "collapsed": true
   },
   "outputs": [],
   "source": [
    "final['trip_duration'] = result"
   ]
  },
  {
   "cell_type": "code",
   "execution_count": 45,
   "metadata": {},
   "outputs": [
    {
     "data": {
      "text/html": [
       "<div>\n",
       "<style>\n",
       "    .dataframe thead tr:only-child th {\n",
       "        text-align: right;\n",
       "    }\n",
       "\n",
       "    .dataframe thead th {\n",
       "        text-align: left;\n",
       "    }\n",
       "\n",
       "    .dataframe tbody tr th {\n",
       "        vertical-align: top;\n",
       "    }\n",
       "</style>\n",
       "<table border=\"1\" class=\"dataframe\">\n",
       "  <thead>\n",
       "    <tr style=\"text-align: right;\">\n",
       "      <th></th>\n",
       "      <th>id</th>\n",
       "      <th>trip_duration</th>\n",
       "    </tr>\n",
       "  </thead>\n",
       "  <tbody>\n",
       "    <tr>\n",
       "      <th>0</th>\n",
       "      <td>id3004672</td>\n",
       "      <td>671.144180</td>\n",
       "    </tr>\n",
       "    <tr>\n",
       "      <th>1</th>\n",
       "      <td>id3505355</td>\n",
       "      <td>651.729089</td>\n",
       "    </tr>\n",
       "    <tr>\n",
       "      <th>2</th>\n",
       "      <td>id1217141</td>\n",
       "      <td>403.202309</td>\n",
       "    </tr>\n",
       "    <tr>\n",
       "      <th>3</th>\n",
       "      <td>id2150126</td>\n",
       "      <td>1191.661575</td>\n",
       "    </tr>\n",
       "    <tr>\n",
       "      <th>4</th>\n",
       "      <td>id1598245</td>\n",
       "      <td>376.903239</td>\n",
       "    </tr>\n",
       "    <tr>\n",
       "      <th>5</th>\n",
       "      <td>id0668992</td>\n",
       "      <td>911.127435</td>\n",
       "    </tr>\n",
       "    <tr>\n",
       "      <th>6</th>\n",
       "      <td>id1765014</td>\n",
       "      <td>1018.567028</td>\n",
       "    </tr>\n",
       "    <tr>\n",
       "      <th>7</th>\n",
       "      <td>id0898117</td>\n",
       "      <td>852.771437</td>\n",
       "    </tr>\n",
       "    <tr>\n",
       "      <th>8</th>\n",
       "      <td>id3905224</td>\n",
       "      <td>2457.641235</td>\n",
       "    </tr>\n",
       "    <tr>\n",
       "      <th>9</th>\n",
       "      <td>id1543102</td>\n",
       "      <td>522.247566</td>\n",
       "    </tr>\n",
       "    <tr>\n",
       "      <th>10</th>\n",
       "      <td>id3024712</td>\n",
       "      <td>1040.676210</td>\n",
       "    </tr>\n",
       "    <tr>\n",
       "      <th>11</th>\n",
       "      <td>id3665810</td>\n",
       "      <td>343.214253</td>\n",
       "    </tr>\n",
       "    <tr>\n",
       "      <th>12</th>\n",
       "      <td>id1836461</td>\n",
       "      <td>349.172432</td>\n",
       "    </tr>\n",
       "    <tr>\n",
       "      <th>13</th>\n",
       "      <td>id3457080</td>\n",
       "      <td>654.485270</td>\n",
       "    </tr>\n",
       "    <tr>\n",
       "      <th>14</th>\n",
       "      <td>id3376065</td>\n",
       "      <td>1056.267213</td>\n",
       "    </tr>\n",
       "    <tr>\n",
       "      <th>15</th>\n",
       "      <td>id3008739</td>\n",
       "      <td>677.692477</td>\n",
       "    </tr>\n",
       "    <tr>\n",
       "      <th>16</th>\n",
       "      <td>id0902216</td>\n",
       "      <td>879.412346</td>\n",
       "    </tr>\n",
       "    <tr>\n",
       "      <th>17</th>\n",
       "      <td>id3564824</td>\n",
       "      <td>489.124994</td>\n",
       "    </tr>\n",
       "    <tr>\n",
       "      <th>18</th>\n",
       "      <td>id0820280</td>\n",
       "      <td>247.539735</td>\n",
       "    </tr>\n",
       "    <tr>\n",
       "      <th>19</th>\n",
       "      <td>id0775088</td>\n",
       "      <td>856.721930</td>\n",
       "    </tr>\n",
       "    <tr>\n",
       "      <th>20</th>\n",
       "      <td>id1468488</td>\n",
       "      <td>268.890658</td>\n",
       "    </tr>\n",
       "    <tr>\n",
       "      <th>21</th>\n",
       "      <td>id2657479</td>\n",
       "      <td>590.054184</td>\n",
       "    </tr>\n",
       "    <tr>\n",
       "      <th>22</th>\n",
       "      <td>id1262719</td>\n",
       "      <td>551.229354</td>\n",
       "    </tr>\n",
       "    <tr>\n",
       "      <th>23</th>\n",
       "      <td>id1345524</td>\n",
       "      <td>1112.816300</td>\n",
       "    </tr>\n",
       "    <tr>\n",
       "      <th>24</th>\n",
       "      <td>id2911638</td>\n",
       "      <td>938.852643</td>\n",
       "    </tr>\n",
       "    <tr>\n",
       "      <th>25</th>\n",
       "      <td>id2849512</td>\n",
       "      <td>1262.509812</td>\n",
       "    </tr>\n",
       "    <tr>\n",
       "      <th>26</th>\n",
       "      <td>id0236829</td>\n",
       "      <td>438.682089</td>\n",
       "    </tr>\n",
       "    <tr>\n",
       "      <th>27</th>\n",
       "      <td>id2905906</td>\n",
       "      <td>389.953771</td>\n",
       "    </tr>\n",
       "    <tr>\n",
       "      <th>28</th>\n",
       "      <td>id3737939</td>\n",
       "      <td>1117.114545</td>\n",
       "    </tr>\n",
       "    <tr>\n",
       "      <th>29</th>\n",
       "      <td>id0766179</td>\n",
       "      <td>1816.562778</td>\n",
       "    </tr>\n",
       "    <tr>\n",
       "      <th>...</th>\n",
       "      <td>...</td>\n",
       "      <td>...</td>\n",
       "    </tr>\n",
       "    <tr>\n",
       "      <th>625104</th>\n",
       "      <td>id0120169</td>\n",
       "      <td>330.608044</td>\n",
       "    </tr>\n",
       "    <tr>\n",
       "      <th>625105</th>\n",
       "      <td>id0386349</td>\n",
       "      <td>416.643987</td>\n",
       "    </tr>\n",
       "    <tr>\n",
       "      <th>625106</th>\n",
       "      <td>id1962532</td>\n",
       "      <td>909.529722</td>\n",
       "    </tr>\n",
       "    <tr>\n",
       "      <th>625107</th>\n",
       "      <td>id0335207</td>\n",
       "      <td>406.945952</td>\n",
       "    </tr>\n",
       "    <tr>\n",
       "      <th>625108</th>\n",
       "      <td>id0273508</td>\n",
       "      <td>1520.919953</td>\n",
       "    </tr>\n",
       "    <tr>\n",
       "      <th>625109</th>\n",
       "      <td>id2936770</td>\n",
       "      <td>631.172779</td>\n",
       "    </tr>\n",
       "    <tr>\n",
       "      <th>625110</th>\n",
       "      <td>id0044526</td>\n",
       "      <td>245.425316</td>\n",
       "    </tr>\n",
       "    <tr>\n",
       "      <th>625111</th>\n",
       "      <td>id3605431</td>\n",
       "      <td>704.719942</td>\n",
       "    </tr>\n",
       "    <tr>\n",
       "      <th>625112</th>\n",
       "      <td>id2681896</td>\n",
       "      <td>413.681799</td>\n",
       "    </tr>\n",
       "    <tr>\n",
       "      <th>625113</th>\n",
       "      <td>id3308448</td>\n",
       "      <td>598.459693</td>\n",
       "    </tr>\n",
       "    <tr>\n",
       "      <th>625114</th>\n",
       "      <td>id2108525</td>\n",
       "      <td>558.483741</td>\n",
       "    </tr>\n",
       "    <tr>\n",
       "      <th>625115</th>\n",
       "      <td>id3952220</td>\n",
       "      <td>2771.746476</td>\n",
       "    </tr>\n",
       "    <tr>\n",
       "      <th>625116</th>\n",
       "      <td>id2771348</td>\n",
       "      <td>728.659586</td>\n",
       "    </tr>\n",
       "    <tr>\n",
       "      <th>625117</th>\n",
       "      <td>id3065313</td>\n",
       "      <td>1689.962960</td>\n",
       "    </tr>\n",
       "    <tr>\n",
       "      <th>625118</th>\n",
       "      <td>id2332834</td>\n",
       "      <td>1505.384981</td>\n",
       "    </tr>\n",
       "    <tr>\n",
       "      <th>625119</th>\n",
       "      <td>id3495407</td>\n",
       "      <td>437.396581</td>\n",
       "    </tr>\n",
       "    <tr>\n",
       "      <th>625120</th>\n",
       "      <td>id3811106</td>\n",
       "      <td>505.661050</td>\n",
       "    </tr>\n",
       "    <tr>\n",
       "      <th>625121</th>\n",
       "      <td>id2693698</td>\n",
       "      <td>311.433906</td>\n",
       "    </tr>\n",
       "    <tr>\n",
       "      <th>625122</th>\n",
       "      <td>id2884571</td>\n",
       "      <td>386.271835</td>\n",
       "    </tr>\n",
       "    <tr>\n",
       "      <th>625123</th>\n",
       "      <td>id2790343</td>\n",
       "      <td>1275.753372</td>\n",
       "    </tr>\n",
       "    <tr>\n",
       "      <th>625124</th>\n",
       "      <td>id1901191</td>\n",
       "      <td>833.933502</td>\n",
       "    </tr>\n",
       "    <tr>\n",
       "      <th>625125</th>\n",
       "      <td>id0664662</td>\n",
       "      <td>800.989284</td>\n",
       "    </tr>\n",
       "    <tr>\n",
       "      <th>625126</th>\n",
       "      <td>id2073829</td>\n",
       "      <td>391.262110</td>\n",
       "    </tr>\n",
       "    <tr>\n",
       "      <th>625127</th>\n",
       "      <td>id0328287</td>\n",
       "      <td>342.762682</td>\n",
       "    </tr>\n",
       "    <tr>\n",
       "      <th>625128</th>\n",
       "      <td>id1340822</td>\n",
       "      <td>340.863979</td>\n",
       "    </tr>\n",
       "    <tr>\n",
       "      <th>625129</th>\n",
       "      <td>id3008929</td>\n",
       "      <td>344.502508</td>\n",
       "    </tr>\n",
       "    <tr>\n",
       "      <th>625130</th>\n",
       "      <td>id3700764</td>\n",
       "      <td>1243.846425</td>\n",
       "    </tr>\n",
       "    <tr>\n",
       "      <th>625131</th>\n",
       "      <td>id2568735</td>\n",
       "      <td>1687.383851</td>\n",
       "    </tr>\n",
       "    <tr>\n",
       "      <th>625132</th>\n",
       "      <td>id1384355</td>\n",
       "      <td>2238.568587</td>\n",
       "    </tr>\n",
       "    <tr>\n",
       "      <th>625133</th>\n",
       "      <td>id0621643</td>\n",
       "      <td>1229.115325</td>\n",
       "    </tr>\n",
       "  </tbody>\n",
       "</table>\n",
       "<p>625134 rows × 2 columns</p>\n",
       "</div>"
      ],
      "text/plain": [
       "               id  trip_duration\n",
       "0       id3004672     671.144180\n",
       "1       id3505355     651.729089\n",
       "2       id1217141     403.202309\n",
       "3       id2150126    1191.661575\n",
       "4       id1598245     376.903239\n",
       "5       id0668992     911.127435\n",
       "6       id1765014    1018.567028\n",
       "7       id0898117     852.771437\n",
       "8       id3905224    2457.641235\n",
       "9       id1543102     522.247566\n",
       "10      id3024712    1040.676210\n",
       "11      id3665810     343.214253\n",
       "12      id1836461     349.172432\n",
       "13      id3457080     654.485270\n",
       "14      id3376065    1056.267213\n",
       "15      id3008739     677.692477\n",
       "16      id0902216     879.412346\n",
       "17      id3564824     489.124994\n",
       "18      id0820280     247.539735\n",
       "19      id0775088     856.721930\n",
       "20      id1468488     268.890658\n",
       "21      id2657479     590.054184\n",
       "22      id1262719     551.229354\n",
       "23      id1345524    1112.816300\n",
       "24      id2911638     938.852643\n",
       "25      id2849512    1262.509812\n",
       "26      id0236829     438.682089\n",
       "27      id2905906     389.953771\n",
       "28      id3737939    1117.114545\n",
       "29      id0766179    1816.562778\n",
       "...           ...            ...\n",
       "625104  id0120169     330.608044\n",
       "625105  id0386349     416.643987\n",
       "625106  id1962532     909.529722\n",
       "625107  id0335207     406.945952\n",
       "625108  id0273508    1520.919953\n",
       "625109  id2936770     631.172779\n",
       "625110  id0044526     245.425316\n",
       "625111  id3605431     704.719942\n",
       "625112  id2681896     413.681799\n",
       "625113  id3308448     598.459693\n",
       "625114  id2108525     558.483741\n",
       "625115  id3952220    2771.746476\n",
       "625116  id2771348     728.659586\n",
       "625117  id3065313    1689.962960\n",
       "625118  id2332834    1505.384981\n",
       "625119  id3495407     437.396581\n",
       "625120  id3811106     505.661050\n",
       "625121  id2693698     311.433906\n",
       "625122  id2884571     386.271835\n",
       "625123  id2790343    1275.753372\n",
       "625124  id1901191     833.933502\n",
       "625125  id0664662     800.989284\n",
       "625126  id2073829     391.262110\n",
       "625127  id0328287     342.762682\n",
       "625128  id1340822     340.863979\n",
       "625129  id3008929     344.502508\n",
       "625130  id3700764    1243.846425\n",
       "625131  id2568735    1687.383851\n",
       "625132  id1384355    2238.568587\n",
       "625133  id0621643    1229.115325\n",
       "\n",
       "[625134 rows x 2 columns]"
      ]
     },
     "execution_count": 45,
     "metadata": {},
     "output_type": "execute_result"
    }
   ],
   "source": [
    "final"
   ]
  },
  {
   "cell_type": "code",
   "execution_count": 46,
   "metadata": {
    "collapsed": true
   },
   "outputs": [],
   "source": [
    "final.to_csv('result.csv', index=False)"
   ]
  },
  {
   "cell_type": "code",
   "execution_count": null,
   "metadata": {
    "collapsed": true
   },
   "outputs": [],
   "source": []
  }
 ],
 "metadata": {
  "kernelspec": {
   "display_name": "Python 3",
   "language": "python",
   "name": "python3"
  },
  "language_info": {
   "codemirror_mode": {
    "name": "ipython",
    "version": 3
   },
   "file_extension": ".py",
   "mimetype": "text/x-python",
   "name": "python",
   "nbconvert_exporter": "python",
   "pygments_lexer": "ipython3",
   "version": "3.5.2"
  }
 },
 "nbformat": 4,
 "nbformat_minor": 2
}
